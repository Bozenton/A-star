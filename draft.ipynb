{
 "cells": [
  {
   "cell_type": "code",
   "execution_count": 127,
   "metadata": {},
   "outputs": [
    {
     "data": {
      "image/png": "[encoded data removed]",
      "text/plain": [
       "<Figure size 432x288 with 1 Axes>"
      ]
     },
     "metadata": {},
     "output_type": "display_data"
    }
   ],
   "source": [
    "# import os\n",
    "# import sys\n",
    "# sys.path.append(os.getcwd())\n",
    "import matplotlib.pyplot as plt\n",
    "import numpy as np\n",
    "\n",
    "data = np.zeros([3,10]).astype(np.uint8)\n",
    "data[2,0] = 1\n",
    "fig, ax = plt.subplots()\n",
    "# ax.set_axis_off()\n",
    "ax.set_title('test title')\n",
    "ax.annotate(3, (5,2), ha='center', va='center', fontsize=20)\n",
    "ax.imshow(data)\n",
    "# ax.hlines(y=np.arange(0, 5)+0.5, xmin=np.full(5, 0)-0.5, xmax=np.full(5, 5)-0.5, color=\"black\")\n",
    "# ax.vlines(x=np.arange(0, 10)+0.5, ymin=np.full(10, 0)-0.5, ymax=np.full(10, 10)-0.5, color=\"black\")\n",
    "ax.tick_params(axis='both', which='both', bottom=False, top=False, labelbottom=False, right=False, left=False, labelleft=False)"
   ]
  },
  {
   "cell_type": "code",
   "execution_count": 105,
   "metadata": {},
   "outputs": [
    {
     "data": {
      "text/plain": [
       "array([0.5, 1.5])"
      ]
     },
     "execution_count": 105,
     "metadata": {},
     "output_type": "execute_result"
    }
   ],
   "source": [
    "np.arange(0, 3-1)+0.5"
   ]
  },
  {
   "cell_type": "code",
   "execution_count": 126,
   "metadata": {},
   "outputs": [
    {
     "data": {
      "image/png": "[encoded data removed]",
      "text/plain": [
       "<Figure size 432x288 with 1 Axes>"
      ]
     },
     "metadata": {},
     "output_type": "display_data"
    }
   ],
   "source": [
    "from graph_engine import Grid \n",
    "COLOR_WALL = (125, 16, 16)\n",
    "COLOR_PASSABLE = (255, 255, 255)\n",
    "COLOR_PATH = (33, 204, 90) # green\n",
    "COLOR_SEARCHED = (73, 186, 196)\n",
    "pixel_fontsize = 20\n",
    "def plot_details(ax, graph, id, style): # id: horizontal, vertical\n",
    "    pixel_color = COLOR_PASSABLE\n",
    "    r = ''\n",
    "    if 'number' in style and id in style['number']: \n",
    "        r = \" %d\" % style['number'][id]\n",
    "    if 'point_to' in style and style['point_to'].get(id, None) is not None:\n",
    "        (x1, y1) = id\n",
    "        (x2, y2) = style['point_to'][id]\n",
    "        if x2 == x1 + 1 and y1 == y2: r = \" → \"\n",
    "        if x2 == x1 - 1 and y1 == y2: r = \" ← \"\n",
    "        if y2 == y1 + 1 and x1 == x2: r = \" ↓ \"\n",
    "        if y2 == y1 - 1 and x1 == x2: r = \" ↑ \"\n",
    "        if x2 == x1 + 1 and y2 == y1 + 1: r = \" ↘ \"\n",
    "        if x2 == x1 + 1 and y2 == y1 - 1: r = \" ↗ \"\n",
    "        if x2 == x1 - 1 and y2 == y1 + 1: r = \" ↙ \"\n",
    "        if x2 == x1 - 1 and y2 == y1 - 1: r = \" ↖ \"\n",
    "        pixel_color = COLOR_SEARCHED\n",
    "    if 'path' in style and id in style['path']:   \n",
    "        pixel_color = COLOR_PATH\n",
    "    if 'start' in style and id == style['start']: r = \"○\"\n",
    "    if 'goal' in style and id == style['goal']:   r = \"☆\"\n",
    "    if id in graph.walls:\n",
    "        pixel_color = COLOR_WALL\n",
    "    # notice that in ax.annotate need horizontal x and vertical y\n",
    "    # while ax.imshow need horizontal y and vertical x\n",
    "    ax.annotate(r, id, ha='center', va='center', fontsize=pixel_fontsize)\n",
    "    return ax, pixel_color\n",
    "\n",
    "def plot_grid(ax, graph:Grid, **details):\n",
    "    data = np.zeros([graph.height, graph.width, 3]).astype(np.uint8) # height, width, channel\n",
    "    for y in range(graph.height):\n",
    "        for x in range(graph.width):\n",
    "            ax, pixel_color = plot_details(ax, graph, (x,y), details)\n",
    "            data[y, x, :] = pixel_color\n",
    "    # notice that in ax.annotate need horizontal x and vertical y\n",
    "    # while ax.imshow need horizontal y and vertical x\n",
    "    ax.imshow(data)\n",
    "    ax.tick_params(axis='both', which='both', bottom=False, top=False, labelbottom=False, right=False, left=False, labelleft=False)\n",
    "    ax.hlines(y=np.arange(0, graph.height+1)-0.5, \n",
    "              xmin=np.full(graph.height+1, 0)-0.5, \n",
    "              xmax=np.full(graph.height+1, graph.width)-0.5, \n",
    "              color=\"black\", linewidth=1)\n",
    "    ax.vlines(x=np.arange(0, graph.width+1)-0.5, \n",
    "              ymin=np.full(graph.width+1, 0)-0.5, \n",
    "              ymax=np.full(graph.width+1, graph.height)-0.5, \n",
    "              color=\"black\", linewidth=1)    \n",
    "    return ax \n",
    "\n",
    "\n",
    "from graph_engine import WeightedGrid, get_path_trace_back\n",
    "from Astar import A_star\n",
    "\n",
    "grid1 = WeightedGrid(15, 10)\n",
    "grid1.walls = [(0, 1),(3, 1),(8, 1),(5, 2),(2, 3),(6, 3),(8, 3),(4, 5),(2, 7),(6, 7),(0, 9),(2, 9),(8, 9)]\n",
    "start1 = (1, 2)\n",
    "goal1 = (8, 8)\n",
    "\n",
    "came_from1, cost1 = A_star(grid1, start1, goal1)\n",
    "fig, ax = plt.subplots()\n",
    "# plot_grid(ax, grid1, point_to=came_from1, start=start1, goal=goal1)\n",
    "# plt.show()\n",
    "plot_grid(ax, grid1, point_to=came_from1, path=get_path_trace_back(came_from1, start1, goal1), start=start1, goal=goal1)\n",
    "# plt.show()\n",
    "ax.set_title('test')\n",
    "# plt.savefig('test.pdf', bbox_inches='tight', transparent=True, dpi=200)"
   ]
  },
  {
   "cell_type": "code",
   "execution_count": 30,
   "metadata": {},
   "outputs": [
    {
     "data": {
      "text/plain": [
       "{(2, 2): None,\n",
       " (3, 2): (2, 2),\n",
       " (1, 2): (2, 2),\n",
       " (2, 1): (2, 2),\n",
       " (3, 3): (2, 2),\n",
       " (1, 3): (2, 2),\n",
       " (1, 1): (2, 2),\n",
       " (4, 3): (3, 3),\n",
       " (3, 4): (3, 3),\n",
       " (4, 4): (3, 3),\n",
       " (4, 2): (3, 3),\n",
       " (2, 4): (3, 3),\n",
       " (5, 4): (4, 4),\n",
       " (5, 5): (4, 4),\n",
       " (5, 3): (4, 4),\n",
       " (3, 5): (4, 4),\n",
       " (6, 5): (5, 5),\n",
       " (5, 6): (5, 5),\n",
       " (6, 6): (5, 5),\n",
       " (6, 4): (5, 5),\n",
       " (4, 6): (5, 5),\n",
       " (7, 6): (6, 6),\n",
       " (7, 7): (6, 6),\n",
       " (7, 5): (6, 6),\n",
       " (5, 7): (6, 6),\n",
       " (8, 7): (7, 7),\n",
       " (7, 8): (7, 7),\n",
       " (8, 8): (7, 7),\n",
       " (8, 6): (7, 7),\n",
       " (6, 8): (7, 7)}"
      ]
     },
     "execution_count": 30,
     "metadata": {},
     "output_type": "execute_result"
    }
   ],
   "source": [
    "came_from1"
   ]
  },
  {
   "cell_type": "code",
   "execution_count": 134,
   "metadata": {},
   "outputs": [
    {
     "data": {
      "image/png": "[encoded data removed]",
      "text/plain": [
       "<Figure size 432x288 with 1 Axes>"
      ]
     },
     "metadata": {
      "needs_background": "light"
     },
     "output_type": "display_data"
    }
   ],
   "source": [
    "fig = plt.figure()\n",
    "plt.title('ddfaf\\nda')\n",
    "plt.show()"
   ]
  }
 ],
 "metadata": {
  "kernelspec": {
   "display_name": "Python 3.7.11 ('torchCPU')",
   "language": "python",
   "name": "python3"
  },
  "language_info": {
   "codemirror_mode": {
    "name": "ipython",
    "version": 3
   },
   "file_extension": ".py",
   "mimetype": "text/x-python",
   "name": "python",
   "nbconvert_exporter": "python",
   "pygments_lexer": "ipython3",
   "version": "3.7.11"
  },
  "orig_nbformat": 4,
  "vscode": {
   "interpreter": {
    "hash": "3503c772228f865e9046df7a3dbfa9a4744f3356461e8184ac67bd899f2dd09f"
   }
  }
 },
 "nbformat": 4,
 "nbformat_minor": 2
}
